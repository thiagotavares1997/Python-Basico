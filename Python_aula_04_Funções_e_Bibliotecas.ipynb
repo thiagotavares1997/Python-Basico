{
  "nbformat": 4,
  "nbformat_minor": 0,
  "metadata": {
    "colab": {
      "provenance": [],
      "mount_file_id": "1tHPMJ30qdfnkLRXWdxWBUXnAMaq1zRis",
      "authorship_tag": "ABX9TyPyA6FHLjfAklH6hrx+Fajb",
      "include_colab_link": true
    },
    "kernelspec": {
      "name": "python3",
      "display_name": "Python 3"
    },
    "language_info": {
      "name": "python"
    }
  },
  "cells": [
    {
      "cell_type": "markdown",
      "metadata": {
        "id": "view-in-github",
        "colab_type": "text"
      },
      "source": [
        "<a href=\"https://colab.research.google.com/github/thiagotavares1997/Python-Basico/blob/main/Python_aula_04_Fun%C3%A7%C3%B5es_e_Bibliotecas.ipynb\" target=\"_parent\"><img src=\"https://colab.research.google.com/assets/colab-badge.svg\" alt=\"Open In Colab\"/></a>"
      ]
    },
    {
      "cell_type": "markdown",
      "source": [
        "# Funções e Bibliotecas"
      ],
      "metadata": {
        "id": "bRIfSp26qOHV"
      }
    },
    {
      "cell_type": "markdown",
      "source": [
        "## Funções\n",
        "\n",
        "Em Python, as funções são blocos de código que realizam uma tarefa específica. Elas são definidas usando a palavra-chave def, seguida pelo nome da função, parênteses que podem conter argumentos (ou parâmetros), e dois pontos. O corpo da função é indentado para indicar quais instruções fazem parte da função similar ao que vimos com o for, while, if, elif e else.\n",
        "\n",
        "A ideia por trás dessas funções são agrupar instruções relacionadas em um mesmo bloco de código reutilizável em qualquer linha do código. De um modo geral, a utilização das funções garante:\n",
        "\n",
        "* `Reutilização de código:` Se houver uma tarefa que precisa ser realizada várias vezes em um programa, uma função pode ser definida para realizar essa tarefa e ser chamada sempre que necessário, o que evita repetição de código, reduzindo a quantidade de linhas de programação e tornando o programa fácil de compreender\n",
        "\n",
        "* `Abstração:` As funções podem ser usadas para ocultar a complexidade do código. Isso significa que uma função pode realizar uma tarefa complexa, mas a lógica por trás dela é ocultada do usuário final. Isso torna o código mais fácil de entender e reduz o risco de erros. Essa ideia tambem permei as inúmeras bibliotecas do python que utilizam códigos complexos, até mesmo em outras linguagens como em C++.\n",
        "\n",
        "* `Organização:` As funções podem ser usadas para organizar o código em partes lógicas.\n",
        "\n",
        "* `Testabilidade:` Funções bem definidas são mais fáceis de testar do que o código em linha reta. Ao testar uma função, é possível verificar se ela produz o resultado esperado e, em caso de erro, é mais fácil de depurar.\n",
        "\n",
        "* `Reutilização em outros programas:` Funções bem definidas e reutilizáveis podem ser copiadas ou importadas em outros programas. Isso economiza tempo e esforço na escrita de novos programas e garante a consistência na execução das tarefas.\n",
        "\n",
        "Para criar uma função em python basta utilizar o ponteiro `def` seguido do nome para su função e os parâmetros que são pertencentes a ela dentro de parênteses. Lembrando que os parâmetros não são necessários em todos os casos. Ainda, as funções podem retornar valores através do comando `return`, mas esse comando não é obrigatório.\n",
        "\n",
        "Quando uma função não possue um `return`, ela é chamada de função void, já que não retornam nenhum valor. Em outras palavras, quando a função é executada, ela realiza uma operação ou ação, mas não retorna nenhum valor numérico ou objeto para o código.\n",
        "\n",
        "```\n",
        "def função(a, b, c, ...):\n",
        "  execução da função\n",
        "  return x\n",
        "```\n",
        "\n",
        "Vamos criar uma calculadora onde as funções de soma, subtração, multiplicação e divisão são funções. Também, crie uma função void (sem return) responssável por printar na tela \"iniciando calculadora\". Tente criar um código com um loop que só finaliza qunado o usuário desejar (Uma dica para isso é utilizar o while(True) com o comando break, capas de finalizar qualquer laço de repetição)"
      ],
      "metadata": {
        "id": "UbohUfHH9gfL"
      }
    },
    {
      "cell_type": "code",
      "source": [
        "def soma(a,b):\n",
        "  return a+b\n",
        "\n",
        "def subtracao(a,b):\n",
        "  return a-b\n",
        "\n",
        "def multiplicacao(a,b):\n",
        "  return a*b\n",
        "\n",
        "def divisao(a,b):\n",
        "  return a/b\n",
        "\n",
        "def inicia():\n",
        "  print(\"iniciando calculadora\")\n",
        "\n",
        "inicia()\n",
        "while(True):\n",
        "  print(\"Qual operação você deseja executar?\")\n",
        "  operacao = input(\"+ - * / fechar \")\n",
        "  if operacao == \"+\":\n",
        "    a = float(input(\"primeiro valor: \"))\n",
        "    b = float(input(\"segundo valor: \"))\n",
        "    print(soma(a,b))\n",
        "  elif operacao == \"-\":\n",
        "    a = float(input(\"primeiro valor: \"))\n",
        "    b = float(input(\"segundo valor: \"))\n",
        "    print(subtracao(a,b))\n",
        "  elif operacao == \"*\":\n",
        "    a = float(input(\"primeiro valor: \"))\n",
        "    b = float(input(\"segundo valor: \"))\n",
        "    print(multiplicacao(a,b))\n",
        "  elif operacao == \"/\":\n",
        "    a = float(input(\"primeiro valor: \"))\n",
        "    b = float(input(\"segundo valor: \"))\n",
        "    print(divisao(a,b))\n",
        "  elif operacao == \"fechar\":\n",
        "    print(\"Calculadora finalizada\")\n",
        "    break\n",
        "  else:\n",
        "    print(\"Comando não identificado, por favor, informe um comando válido\")\n"
      ],
      "metadata": {
        "colab": {
          "base_uri": "https://localhost:8080/"
        },
        "id": "mvDRMuvh_j-i",
        "outputId": "bb83f062-7157-47e2-a27a-58a2260d33c0"
      },
      "execution_count": null,
      "outputs": [
        {
          "output_type": "stream",
          "name": "stdout",
          "text": [
            "iniciando calculadora\n",
            "Qual operação você deseja executar?\n",
            "+ - * / fechar fechar\n",
            "Calculadora finalizada\n"
          ]
        }
      ]
    },
    {
      "cell_type": "markdown",
      "source": [],
      "metadata": {
        "id": "VFyUuS7jqUeZ"
      }
    },
    {
      "cell_type": "markdown",
      "source": [
        "## Bibliotecas\n",
        "\n",
        "Como já mensionado no início deste curso, as bibliotecas são códigos que fornecem funções e métodos predefinidos que podem ser importados para seu programa em Python. A ideia por trás dessas bibliotecas é facilitar o desenvolvimento de softwares oferecendo novos recursos e funcionalidades que são incorporadas no código principal, tirando a necessidade de se programar as funções do zero.\n",
        "\n",
        "Uma das bibliotecas mais conhecidas em Python é a numpy, utilizada para computação científica e análise de dados numéricos, oferecendo um objeto de matriz N-dimensional, juntamente com funções para operações matemáticas em matrizes, tornando mais fácil e eficiente o trabalho com grandes conjuntos de dados numéricos em Python.\n",
        "\n",
        "Para instalarmos uma biblioteca e utilizarmos bastam alguns comandos e o conhecimento das funções dela, bastando uma simples pesquisa no google para um aprofundamento.\n",
        "\n",
        "Para instalar uma biblioteca em um ambiente de programação, utilizamos:\n",
        "\n",
        "```\n",
        "!pip install biblioteca\n",
        "```\n",
        "\n",
        "Já para importá-la para em seu programa, utiliza-se:\n",
        "\n",
        "```\n",
        "import numpy\n",
        "```\n",
        "\n",
        "Ainda, sempre que formos utilizar as funções do numpy, serpá necessário chamá-la como por exemplo: `a = numpy.array([1, 2, 3])`. Para facilitar essa aplicação, podemos dar um apelido a nossa biblioteca, como por exemplo:\n",
        "\n",
        "```\n",
        "import numpy as np\n",
        "```\n",
        "\n",
        "Dessa forma, podemos utilizar a biblioteca da seguinte forma: `a = np.array([1, 2, 3])`"
      ],
      "metadata": {
        "id": "IcZIarUZqzF7"
      }
    }
  ]
}