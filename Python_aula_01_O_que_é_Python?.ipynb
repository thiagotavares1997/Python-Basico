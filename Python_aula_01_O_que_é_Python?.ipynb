{
  "nbformat": 4,
  "nbformat_minor": 0,
  "metadata": {
    "colab": {
      "provenance": [],
      "authorship_tag": "ABX9TyP68FXPyxk8CKQl2DGWmC+k",
      "include_colab_link": true
    },
    "kernelspec": {
      "name": "python3",
      "display_name": "Python 3"
    },
    "language_info": {
      "name": "python"
    }
  },
  "cells": [
    {
      "cell_type": "markdown",
      "metadata": {
        "id": "view-in-github",
        "colab_type": "text"
      },
      "source": [
        "<a href=\"https://colab.research.google.com/github/thiagotavares1997/Python-Basico/blob/main/Python_aula_01_O_que_%C3%A9_Python%3F.ipynb\" target=\"_parent\"><img src=\"https://colab.research.google.com/assets/colab-badge.svg\" alt=\"Open In Colab\"/></a>"
      ]
    },
    {
      "cell_type": "markdown",
      "source": [
        "# O que é Python\n",
        "\n",
        "Lançada pelo programador e matemático Guido Van Rossum, a linguagem python foi criada com ênfase no desenvolvedor, com um código mais limpo, simples e legível do que as demais linguagens praticadas no mercado.\n",
        "\n",
        "Como veremos mais a frente, a sintaxe do Python é extremamente simples quando comparada a outras linguagens como C ou PHP, possuindo menos exigencias gramaticais nas criações dos códigos.\n",
        "\n"
      ],
      "metadata": {
        "id": "0X7KFIe71vWv"
      }
    },
    {
      "cell_type": "markdown",
      "source": [
        "\n",
        "Devido a sintaxe simples, um código escrito em Python geralmente é menor e mais legível se comparado com outras linguagens, como C++ ou PHP. Há menos exigências “gramaticais”, como parênteses em estruturas de seleção ou ponto-e-vírgula no fim da linha, e o código é estruturado com base em espaços em brancos.\n",
        "\n",
        "O Python pode ser utilizado no seu próprio computador, executando os programas pelo terminal de comando por alguma das implementações disponíveis, como CPython ou PyPy.\n",
        "\n",
        "Pela sua versatilidade, também serve como uma linguagem de scripts para aplicações web rodando do lado do servidor, e como ferramenta para desenvolvimento de plugins que expandem as funcionalidades de outros programas. Nas áreas de ciências, Python é bastante utilizado em bibliotecas matemáticas como NumPy e SciPy, e serve como base de muitos projetos de inteligência artificial e aprendizado de máquina.\n",
        "\n",
        "Versões e vantagens\n",
        "O ciclo de desenvolvimento do Python é baseado em versões principais. A atual é a 3.9, mas a Python Software Foundation, organização sem fins lucrativos responsável pela linguagem, continua oferecendo suporte para versões mais antigas, como a 2.7. Para quem está começando, essa é uma informação importante, pois há mudanças significativas entre algumas versões, principalmente entre a 2.x e a 3.x.\n",
        "\n",
        "A linguagem também é bastante querida pela comunidade de desenvolvedores. Em uma pesquisa realizada pela empresa SlashData em 2020, o Python ficou em segundo lugar no ranking das linguagens de programação mais populares entre os profissionais da área.\n",
        "\n",
        "Você pode aprender mais sobre Python e seus recursos acessando a documentação oficial."
      ],
      "metadata": {
        "id": "JZosBfy6H-yP"
      }
    },
    {
      "cell_type": "markdown",
      "source": [
        "#Recursos do Python\n",
        "\n",
        "\n",
        "1.   Linguagem dinâmica e forte\n",
        "\n",
        ">> Em linguagens dinâmicas, os tipos de variáveis não precisam estar explicitamente descritos no código, ou seja, o tipo de dado do valor deve ser do mesmo tipo da variável\n",
        "\n",
        "```\n",
        "a = 1        # a variável a é inteira apenas por estar recebendo um valor interiro\n",
        "b = 3.1415   # a variável b é um float apenas por estar recebendo um valor com casas decimais\n",
        "c = 'string' # a variável c é uma string apenas por estar recebendo algarismos entre aspas\n",
        "```\n",
        "\n",
        ">> Em linguagens estáticas, seria necessário que essas variáveis fossem declaradas para assumirem os valores anteriores\n",
        "\n",
        "```\n",
        "int a   # declara a como um inteiro\n",
        "float b # declara b como um float\n",
        "str c   # declara c como uma string\n",
        "```\n",
        "\n",
        "2.   Multiparadigma\n",
        "\n",
        ">> A linguegem Python consegue ser manipulada tanto de maneira extruturada quanto orientada a objetos. Uma linguagem extruturada segue uma ordem lógica, sendo equipara a um fluxograma.\n",
        "\n",
        "\n",
        "\n",
        ">> Já uma linguagem orientada a Objetos utiliza de objetos e classes para funcionar. Dessa forma, vários objetos podem funcionar em uma mesma classe e responder a determinadas funções, economizando linhas de código e tornando o programa mais rápido limpo.\n",
        "\n",
        ">> Imagine os objetos como sendo Gol, Fiesta, Uno, Sandero, Duster e Renegade e todos eles pertencem a classe carro. De um modo geral, todos eles teriam as funções ligar luzes, acelerar, desacelerar etc. Contudo, apenas a Duster e o Renegate teriam a função 4x4, dessa forma, ao invéz de você programar indivicualmente cada uma das funções desses veículos, declara a qual classe eles pertencem.\n",
        "\n",
        "\n",
        "```\n",
        "public class Carro {\n",
        "    Double velocidade;\n",
        "    String modelo;\n",
        "\n",
        "    public Carro(String modelo) {\n",
        "        this.modelo = modelo;\n",
        "        this.velocidade = 0;\n",
        "    }\n",
        "\n",
        "    public void acelerar() {\n",
        "        /* código do carro para acelerar */\n",
        "    }\n",
        "\n",
        "    public void frear() {\n",
        "        /* código do carro para frear */\n",
        "    }\n",
        "\n",
        "    public void acenderFarol() {\n",
        "        /* código do carro para acender o farol */\n",
        "    }\n",
        "\n",
        "    public void 4x4() {\n",
        "        /* código do carro para ativar as trações das rodas */\n",
        "    }\n",
        "}\n",
        "```\n",
        "\n",
        "3. Bibliotecas\n",
        "\n",
        ">> Pode-se dizer que a linguagem Python é o que por conta de sua comunidade. Desde sua concepção, ela foi criada para qualquer um utilizar de forma rápida e prática. Seguiondo essa premissa, a comunidade cria constantemente diversas bibliotecas para o Python que vão desde funções matemáticas até códigos para Inteligencia Artificial, IoT, Data Science e Deep Learning, sendo a maioria delas de código aberto, ou seja, qualquer pessoa pode acessar, aprender e programar em Python.\n",
        "\n",
        ">> Algumas das principais bibliotecas do Python são:\n",
        "*   Matplotlib: biblioteca Python que usa o Python Script para escrever gráficos e plotagens bidimensionais;\n",
        "*   Numpy: utilizada para processamento de array do Python. Ele fornece um bom suporte para diferentes objetos de matriz multidimensional;\n",
        "*   OpenCV Python: pacote para processamento de imagens;\n",
        "*   Requests: focado em tornar as solicitações HTTP mais responsivas e fáceis de usar;\n",
        "*   Keras: biblioteca de rede neural profunda de código aberto;\n",
        "*   TensorFlow: biblioteca para Machine Learning de código aberto e gratuita. É muito fácil de aprender e possui uma coleção de ferramentas úteis;\n",
        "*   Pygame: biblioteca baseada em SDL voltada para o desenvolvimento de games e interfaces gráficas.\n"
      ],
      "metadata": {
        "id": "kv1Vc1xq4eG1"
      }
    },
    {
      "cell_type": "markdown",
      "source": [
        "# Plataformas para programar\n",
        "\n",
        "\n",
        "Como estamos aprendendo uma linguagem de programação, nada melhor do que você acompanhar este curso desenvolvendo seus própios códigos. Para isso, diversas opções estão disponívies, tanto através da programação em nuvem quando por meio de softwares. Algumas plataformas são:\n",
        "\n",
        "\n",
        "* **VS Code:** editor de código-fonte desenvolvido pela Microsoft. Ele é usado para editar e depurar código em várias linguagens de programação, incluindo JavaScript, Python, Java, C++, entre outras. Você pode encontrar o instalador dele aqui: https://code.visualstudio.com/Download\n",
        "* **Google Colab:** um ambiente de notebook baseado na nuvem, ou seja, você não precisa baixar nada, fornecido pelo Google, que permite aos usuários escrever, executar e compartilhar código Python, bem como documentos interativos com texto, código, gráficos e outros recursos, todos linkados ao seu google drive. Para acessar o Google Colab você pode acessar https://colab.research.google.com/\n",
        "* **Jupyter Notebook:** é ambiente de notebook interativo baseado na web, originalmente criado para a linguagem de programação Python, mas atualmente suporta mais de 40 linguagens de programação. É uma ferramenta de código aberto, gratuita e multiplataforma que permite aos usuários criar documentos com células de código interativas, bem como texto, gráficos e outros recursos. A instalação deste ferramente é um pouco mais complexa que as demais, mas você pode encontrar o passo a passo para instalar essa ferramenta aqui: https://jupyter.org/install\n",
        "* **PyCharm:** esse é um ambiente de desenvolvimento integrado (IDE) para a linguagem de programação Python, desenvolvido pela JetBrains. É uma ferramenta poderosa e completa que ajuda os desenvolvedores a escrever, depurar e testar código Python com eficiência. Para instalar essa ferramenta, basta acessar este link: https://www.jetbrains.com/pycharm/download/#section=windows\n",
        "* **Spyder IDE:** este é mais um ambiente de desenvolvimento integrado (IDE) para a linguagem de programação Python, projetado especificamente para cientistas de dados e análise numérica. É um software de código aberto e multiplataforma que oferece uma interface de usuário intuitiva e recursos avançados para análise de dados. Para instalar esta ferramenta basta seguir os passos disponíveis aqui: https://docs.spyder-ide.org/current/installation.html\n",
        "* **Repl.it:** está é uma plataforma de desenvolvimentoonline baseada em nuvem que oferece uma IDE para várias linguagens, inclusive Python. Ele tambem possui uma imagem do console espelhada para que você possa enxergar alguma aplicação em máquina. Para acessar esta aplicação, entre neste link: https://replit.com/"
      ],
      "metadata": {
        "id": "1FEDR2PYL_6L"
      }
    },
    {
      "cell_type": "markdown",
      "source": [
        "# Referências bibliográficas\n",
        "\n",
        "1. SEVERANCE, Charles. Python para todos. Tradução de Rafael Barreto. São Paulo: Novatec Editora, 2016.\n",
        "2. SHAW, Zed A. Aprenda a programar com Python. Tradução de Daniel Doro Ferrante. São Paulo: Novatec Editora, 2015.\n",
        "3. LIANG, Y. Daniel. Introdução à programação com Python. Tradução de Cláudio Esperança. São Paulo: Pearson, 2016.\n",
        "4. SWEIGART, Al. Automatize tarefas maçantes com Python. Tradução de Henrique Bastos et al. São Paulo: Novatec Editora, 2016.\n",
        "5. BEAZLEY, David; JONES, Brian K. Python Cookbook. 3. ed. Sebastopol, CA: O'Reilly Media, 2013.\n",
        "6. RAMALHO, Luciano. Fluent Python. Sebastopol, CA: O'Reilly Media, 2015."
      ],
      "metadata": {
        "id": "OIIVNBevsNSc"
      }
    }
  ]
}