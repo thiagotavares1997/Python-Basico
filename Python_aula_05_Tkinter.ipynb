{
  "nbformat": 4,
  "nbformat_minor": 0,
  "metadata": {
    "colab": {
      "provenance": [],
      "mount_file_id": "1tHPMJ30qdfnkLRXWdxWBUXnAMaq1zRis",
      "authorship_tag": "ABX9TyPRcRELfXlyVxsbP1FPEGJv",
      "include_colab_link": true
    },
    "kernelspec": {
      "name": "python3",
      "display_name": "Python 3"
    },
    "language_info": {
      "name": "python"
    }
  },
  "cells": [
    {
      "cell_type": "markdown",
      "metadata": {
        "id": "view-in-github",
        "colab_type": "text"
      },
      "source": [
        "<a href=\"https://colab.research.google.com/github/thiagotavares1997/Python-Basico/blob/main/Python_aula_05_Tkinter.ipynb\" target=\"_parent\"><img src=\"https://colab.research.google.com/assets/colab-badge.svg\" alt=\"Open In Colab\"/></a>"
      ]
    },
    {
      "cell_type": "markdown",
      "source": [
        "# Biblioteca Tkinter"
      ],
      "metadata": {
        "id": "bRIfSp26qOHV"
      }
    },
    {
      "cell_type": "markdown",
      "source": [
        "Com a parte básica de Python finalizada, vamos seguir para a criação de aplicações com Python. Para isso, vamos utilziar a biblioteca Tkinter. Através dessa biblioteca podemos criar interfaces gráficas (GUIs), já que ela fornece uma maneira fácil de criar interfaces para aplicações de desktop através do Python.\n",
        "\n",
        "A Tkinter tem suas programações embasadas na Tcl/Tk, que é uma das bibliotecas de GUI para plataformas cruzadas originalmente criada para a linguagem Tcl. Provavelmente, esta biblioteca já está instalada com seu Python, já que é um dos módulos padrões de muitos packs de Python.\n",
        "\n",
        "Para garantir que você esteja usando a versão mais recente da biblioteca Tkinter em suas atividades, recomendamos que você execute o comando abaixo. Ele atualizará a biblioteca para a versão mais recente, caso ela já esteja instalada, ou a instalará automaticamente para você, caso ainda não esteja presente no seu pacote Python. Assim, você terá acesso aos recursos mais recentes e aprimoramentos de desempenho disponíveis na biblioteca.\n",
        "\n",
        "```\n",
        "!pip install -U Tkinter\n",
        "```\n",
        "\n",
        "Após cetificar que a biblioteca foi instalada corretamente, você será capas de criar janelas, botões, menus, cixas de diálogo e outros componentes de uma interface gráfica da forma que desejar, já que os recursos do Tkinter são totalmente personalizáveis\n",
        "\n",
        "Ainda, se você estiver acompanhando o código pelo google colab, a interface não será gerada. Para isso, sugerimos que utilize o VS Code ou ambiente virtual do Repl.it.\n",
        "\n",
        "## Criando uma calculadora\n",
        "\n",
        "Para entendermos melhor como a biblioteca funciona, vamos tentar desenvolver um dos softwares mais básicos de todos os computadores: a calculadora.\n",
        "\n",
        "Como estamos utilizando uma biblioteca, o primeiro comando será importá-la. Ainda, vamos utilizar um apelido para facilitar as chamadas das funções no decorrer do código."
      ],
      "metadata": {
        "id": "FPHyqHuDkahE"
      }
    },
    {
      "cell_type": "code",
      "source": [
        "import tkinter as tk"
      ],
      "metadata": {
        "id": "HJZo8Lfj9rh1"
      },
      "execution_count": null,
      "outputs": []
    },
    {
      "cell_type": "markdown",
      "source": [
        "### Iniciando a janela do programa\n",
        "\n",
        "Com a biblioteca inserida em nosso programa, o próximo passo é criar a janela principal onde todo nosso código irá acontecer. Para isso, utulizamos o seguinte comando:"
      ],
      "metadata": {
        "id": "Fs1kJX08PBeG"
      }
    },
    {
      "cell_type": "code",
      "source": [
        "# Criação da janela principal\n",
        "janela = tk.Tk()\n",
        "janela.title(\"Calculadora\")"
      ],
      "metadata": {
        "id": "sWdINyU6TRh7",
        "colab": {
          "base_uri": "https://localhost:8080/",
          "height": 321
        },
        "outputId": "7fbdebc5-b61c-450f-d2fe-f572a48b53b0"
      },
      "execution_count": null,
      "outputs": [
        {
          "output_type": "error",
          "ename": "TclError",
          "evalue": "ignored",
          "traceback": [
            "\u001b[0;31m---------------------------------------------------------------------------\u001b[0m",
            "\u001b[0;31mTclError\u001b[0m                                  Traceback (most recent call last)",
            "\u001b[0;32m<ipython-input-5-b61d2b57c589>\u001b[0m in \u001b[0;36m<cell line: 2>\u001b[0;34m()\u001b[0m\n\u001b[1;32m      1\u001b[0m \u001b[0;31m# Criação da janela principal\u001b[0m\u001b[0;34m\u001b[0m\u001b[0;34m\u001b[0m\u001b[0m\n\u001b[0;32m----> 2\u001b[0;31m \u001b[0mjanela\u001b[0m \u001b[0;34m=\u001b[0m \u001b[0mtk\u001b[0m\u001b[0;34m.\u001b[0m\u001b[0mTk\u001b[0m\u001b[0;34m(\u001b[0m\u001b[0;34m)\u001b[0m\u001b[0;34m\u001b[0m\u001b[0;34m\u001b[0m\u001b[0m\n\u001b[0m\u001b[1;32m      3\u001b[0m \u001b[0mjanela\u001b[0m\u001b[0;34m.\u001b[0m\u001b[0mtitle\u001b[0m\u001b[0;34m(\u001b[0m\u001b[0;34m\"Calculadora\"\u001b[0m\u001b[0;34m)\u001b[0m\u001b[0;34m\u001b[0m\u001b[0;34m\u001b[0m\u001b[0m\n",
            "\u001b[0;32m/usr/lib/python3.10/tkinter/__init__.py\u001b[0m in \u001b[0;36m__init__\u001b[0;34m(self, screenName, baseName, className, useTk, sync, use)\u001b[0m\n\u001b[1;32m   2300\u001b[0m                 \u001b[0mbaseName\u001b[0m \u001b[0;34m=\u001b[0m \u001b[0mbaseName\u001b[0m \u001b[0;34m+\u001b[0m \u001b[0mext\u001b[0m\u001b[0;34m\u001b[0m\u001b[0;34m\u001b[0m\u001b[0m\n\u001b[1;32m   2301\u001b[0m         \u001b[0minteractive\u001b[0m \u001b[0;34m=\u001b[0m \u001b[0;32mFalse\u001b[0m\u001b[0;34m\u001b[0m\u001b[0;34m\u001b[0m\u001b[0m\n\u001b[0;32m-> 2302\u001b[0;31m         \u001b[0mself\u001b[0m\u001b[0;34m.\u001b[0m\u001b[0mtk\u001b[0m \u001b[0;34m=\u001b[0m \u001b[0m_tkinter\u001b[0m\u001b[0;34m.\u001b[0m\u001b[0mcreate\u001b[0m\u001b[0;34m(\u001b[0m\u001b[0mscreenName\u001b[0m\u001b[0;34m,\u001b[0m \u001b[0mbaseName\u001b[0m\u001b[0;34m,\u001b[0m \u001b[0mclassName\u001b[0m\u001b[0;34m,\u001b[0m \u001b[0minteractive\u001b[0m\u001b[0;34m,\u001b[0m \u001b[0mwantobjects\u001b[0m\u001b[0;34m,\u001b[0m \u001b[0museTk\u001b[0m\u001b[0;34m,\u001b[0m \u001b[0msync\u001b[0m\u001b[0;34m,\u001b[0m \u001b[0muse\u001b[0m\u001b[0;34m)\u001b[0m\u001b[0;34m\u001b[0m\u001b[0;34m\u001b[0m\u001b[0m\n\u001b[0m\u001b[1;32m   2303\u001b[0m         \u001b[0;32mif\u001b[0m \u001b[0museTk\u001b[0m\u001b[0;34m:\u001b[0m\u001b[0;34m\u001b[0m\u001b[0;34m\u001b[0m\u001b[0m\n\u001b[1;32m   2304\u001b[0m             \u001b[0mself\u001b[0m\u001b[0;34m.\u001b[0m\u001b[0m_loadtk\u001b[0m\u001b[0;34m(\u001b[0m\u001b[0;34m)\u001b[0m\u001b[0;34m\u001b[0m\u001b[0;34m\u001b[0m\u001b[0m\n",
            "\u001b[0;31mTclError\u001b[0m: no display name and no $DISPLAY environment variable"
          ]
        }
      ]
    },
    {
      "cell_type": "markdown",
      "source": [
        "Se você quiser ir testando seu código conforme for o desenvolvendo, adicione o loop que rodará a janela até que seja fechada"
      ],
      "metadata": {
        "id": "Hd8-ENLmYXRC"
      }
    },
    {
      "cell_type": "code",
      "source": [
        "janela.mainloop()"
      ],
      "metadata": {
        "id": "ZV3nOZ1WYWPm",
        "colab": {
          "base_uri": "https://localhost:8080/",
          "height": 165
        },
        "outputId": "45431241-f5dd-4195-86c4-3997e0286505"
      },
      "execution_count": null,
      "outputs": [
        {
          "output_type": "error",
          "ename": "NameError",
          "evalue": "ignored",
          "traceback": [
            "\u001b[0;31m---------------------------------------------------------------------------\u001b[0m",
            "\u001b[0;31mNameError\u001b[0m                                 Traceback (most recent call last)",
            "\u001b[0;32m<ipython-input-6-bdad335720da>\u001b[0m in \u001b[0;36m<cell line: 1>\u001b[0;34m()\u001b[0m\n\u001b[0;32m----> 1\u001b[0;31m \u001b[0mjanela\u001b[0m\u001b[0;34m.\u001b[0m\u001b[0mmainloop\u001b[0m\u001b[0;34m(\u001b[0m\u001b[0;34m)\u001b[0m\u001b[0;34m\u001b[0m\u001b[0;34m\u001b[0m\u001b[0m\n\u001b[0m",
            "\u001b[0;31mNameError\u001b[0m: name 'janela' is not defined"
          ]
        }
      ]
    },
    {
      "cell_type": "markdown",
      "source": [
        "Agora, vamos utilizar o comando `Entry` da biblioteca para criar um display onde o cálculo irá aparecer. A ideia aqui é atribuir esta entrada a uma variável para que possamos alocá-la em qualquer posição da janela.\n",
        "\n",
        "Os parâmetros que devemos passar para a função são: `tk.Entry(janela do programa, tamanho do display, fonte das letras)`. Após a declaração do display, vamos colocá-los na primeira linha de nosso programa. O comando grid recebe a linha, coluna e o número de colunas que a estrutura irá ocupar."
      ],
      "metadata": {
        "id": "cf7wshaJTwPj"
      }
    },
    {
      "cell_type": "code",
      "source": [
        "display = tk.Entry(janela, width=25, font=(\"Arial\", 16))\n",
        "display.grid(row=0, column=0, columnspan=4)"
      ],
      "metadata": {
        "id": "wV73EqyzUBcy"
      },
      "execution_count": null,
      "outputs": []
    },
    {
      "cell_type": "markdown",
      "source": [
        "### Botões\n",
        "\n",
        "Com o display estruturado, o próximo passo é estruturar os botões numéricos e de operações através do comando `Button`. Lembre-se de atribuí-lo a uma variável para que seja possível adicioná-los com o `grid`.\n",
        "\n",
        "Iniciando pelos botões, precisamos, além de criá-los, formular a função que eles irão executar que, nesta ocasião, é imprimir o valor selecionado no display.\n",
        "\n",
        "Para isso, vamos usar o comando básico `def` para criar a função que deverá receber o caracter selecionado para adicioná-lo ao display. Também utilazamos a função insert no display que recebe a posição que devemos inserir o valor e valor em si."
      ],
      "metadata": {
        "id": "KEkspboJYHHI"
      }
    },
    {
      "cell_type": "code",
      "source": [
        "def adicionar_caractere(caractere):\n",
        "    display.insert(tk.END, caractere)"
      ],
      "metadata": {
        "id": "pUhwxMFRZLaH"
      },
      "execution_count": null,
      "outputs": []
    },
    {
      "cell_type": "markdown",
      "source": [
        "Com a função de adicionar o valor definida, vamos criar os botões. Para isso, o Tkinter disponibilza a função Button, que pode receber diversos parâmetros, mas, como estamos aprendendo, vamos usar o necessário para construirmos nosso *software*.\n",
        "\n",
        "Para o botão do número 1, precisamos atribuir a função a uma variável que receberá a janela que ele irá aparecer, o texto que irá exibir para o usuário e a função que ele irá executar. Como queremos passar um valor para aparecer no display, vamos utilizar a função `lambda`, que é uma função anônima utilizada justamente para passar valores entre as porções do código. Ainda, vamos utilizar o comando `grid` novamente para alinhas o botão abaixo do display."
      ],
      "metadata": {
        "id": "gGvua9H0zBd6"
      }
    },
    {
      "cell_type": "code",
      "source": [
        "b1 = tk.Button(janela, text=\"1\", command=lambda: adicionar_caractere(\"1\"))\n",
        "b1.grid(row=1, column=0)"
      ],
      "metadata": {
        "id": "K7aUwWCXzZcD"
      },
      "execution_count": null,
      "outputs": []
    },
    {
      "cell_type": "markdown",
      "source": [
        "Com o primeiro botão criado, basta repetir o mesmo comando para os demais números e operações de nossa calculadora, mudando apenas os valores do `grid`."
      ],
      "metadata": {
        "id": "v49mO2GsZQEc"
      }
    },
    {
      "cell_type": "code",
      "source": [
        "b2 = tk.Button(janela, text=\"2\", command=lambda: adicionar_caractere(\"2\"))\n",
        "b2.grid(row=1, column=1)\n",
        "\n",
        "b3 = tk.Button(janela, text=\"3\", command=lambda: adicionar_caractere(\"3\"))\n",
        "b3.grid(row=1, column=2)\n",
        "\n",
        "b_div = tk.Button(janela, text=\"/\", command=lambda: adicionar_caractere(\"/\"))\n",
        "b_div.grid(row=1, column=3)\n",
        "\n",
        "b4 = tk.Button(janela, text=\"4\", command=lambda: adicionar_caractere(\"4\"))\n",
        "b4.grid(row=2, column=0)\n",
        "\n",
        "b5 = tk.Button(janela, text=\"5\", command=lambda: adicionar_caractere(\"5\"))\n",
        "b5.grid(row=2, column=1)\n",
        "\n",
        "b6 = tk.Button(janela, text=\"6\", command=lambda: adicionar_caractere(\"6\"))\n",
        "b6.grid(row=2, column=2)\n",
        "\n",
        "b_mult = tk.Button(janela, text=\"*\", command=lambda: adicionar_caractere(\"*\"))\n",
        "b_mult.grid(row=2, column=3)\n",
        "\n",
        "b7 = tk.Button(janela, text=\"7\", command=lambda: adicionar_caractere(\"7\"))\n",
        "b7.grid(row=3, column=0)\n",
        "\n",
        "b8 = tk.Button(janela, text=\"8\", command=lambda: adicionar_caractere(\"8\"))\n",
        "b8.grid(row=3, column=1)\n",
        "\n",
        "b9 = tk.Button(janela, text=\"9\", command=lambda: adicionar_caractere(\"9\"))\n",
        "b9.grid(row=3, column=2)\n",
        "\n",
        "b_sub = tk.Button(janela, text=\"-\", command=lambda: adicionar_caractere(\"-\"))\n",
        "b_sub.grid(row=3, column=3)\n",
        "\n",
        "b0 = tk.Button(janela, text=\"0\", command=lambda: adicionar_caractere(\"0\"))\n",
        "b0.grid(row=4, column=0)\n",
        "\n",
        "b_ponto = tk.Button(janela, text=\".\", command=lambda: adicionar_caractere(\".\"))\n",
        "b_ponto.grid(row=4, column=1)\n",
        "\n",
        "b_soma = tk.Button(janela, text=\"+\", command=lambda: adicionar_caractere(\"+\"))\n",
        "b_soma.grid(row=4, column=3)\n",
        "\n",
        "b_abre_parenteses = tk.Button(janela, text=\"(\", command=lambda: adicionar_caractere(\"(\"))\n",
        "b_abre_parenteses.grid(row=5, column=1)\n",
        "\n",
        "b_fecha_parenteses = tk.Button(janela, text=\")\", command=lambda: adicionar_caractere(\")\"))\n",
        "b_fecha_parenteses.grid(row=5, column=2)"
      ],
      "metadata": {
        "id": "t91GCpB6ajbR"
      },
      "execution_count": null,
      "outputs": []
    },
    {
      "cell_type": "markdown",
      "source": [
        "Obeserve que utilzando apenas uma função conseguimos adicionar diversos valores no display de nossa calculadora. Contudo, se tentarmos realizar uma operação matemática com a equação que aparece no display, nada irá acontecer.\n",
        "\n",
        "Isso se deve porque passamos apenas strings para o display, ao passo que toda equação que for colocada nada mais é do que uma frase composta por números e símbolos\n",
        "\n",
        "Para evitar a definição de inúmeras funções, podemos utilizar a função `eval` nativa do Python para converter a string formada para uma equação, tudo dentro de uma função referente ao botão de igualdade."
      ],
      "metadata": {
        "id": "ajdvXcjEbDFB"
      }
    },
    {
      "cell_type": "code",
      "source": [
        "def calcular():\n",
        "    resultado = eval(display.get())\n",
        "    display.delete(0, tk.END)\n",
        "    display.insert(tk.END, str(resultado))\n",
        "\n",
        "b_igual = tk.Button(janela, text=\"=\", command=calcular)\n",
        "b_igual.grid(row=4, column=2)"
      ],
      "metadata": {
        "id": "eLN5S14ueOn1"
      },
      "execution_count": null,
      "outputs": []
    },
    {
      "cell_type": "markdown",
      "source": [
        "Observe que no código acima, o botão `b_igual` chama a função calcular que, através do comando `eval(display.get())`, calcula a equação formulada pelo usuário e atribui o resultado na variavel `resultado`.\n",
        "\n",
        "Em seguida, a função apaga o display pelo comando `display.delete(0, tk.END)` e adiciona o cálculo para o usuário utilizar com a linha `display.insert(tk.END, str(resultado))`.\n",
        "\n",
        "Para finalizar, vamos criar um botão para limpar o display e sua respectiva função que nada mais é do que uma redução da função calcular"
      ],
      "metadata": {
        "id": "5YaUcOg4ecBL"
      }
    },
    {
      "cell_type": "code",
      "source": [
        "def limpar():\n",
        "    display.delete(0, tk.END)\n",
        "\n",
        "b_limpar = tk.Button(janela, text=\"C\", command=limpar)\n",
        "b_limpar.grid(row=5, column=0)"
      ],
      "metadata": {
        "id": "YhiO9_Ilgwel"
      },
      "execution_count": null,
      "outputs": []
    },
    {
      "cell_type": "markdown",
      "source": [
        "Para utilizar o código, novamente pedimos que use o VS Code ou o repl.it para conseguir visualizar o aplicativo que você criou, ainda, tente seguir uma organização em seu programa para que o códico torne-se mais intendível. Uma sugestão é:\n",
        "\n",
        "```\n",
        "import tkinter as tk\n",
        "\n",
        "# Funções para cálculos\n",
        "def calcular():\n",
        "    resultado = eval(display.get())\n",
        "    display.delete(0, tk.END)\n",
        "    display.insert(tk.END, str(resultado))\n",
        "\n",
        "def limpar():\n",
        "    display.delete(0, tk.END)\n",
        "\n",
        "def adicionar_caractere(caractere):\n",
        "    display.insert(tk.END, caractere)\n",
        "\n",
        "# Criação da janela principal\n",
        "janela = tk.Tk()\n",
        "janela.title(\"Calculadora\")\n",
        "\n",
        "# Criação do display\n",
        "display = tk.Entry(janela, width=10, font=(\"Arial\", 16))\n",
        "display.grid(row=0, column=0, columnspan=4)\n",
        "\n",
        "# Criação dos botões\n",
        "b1 = tk.Button(janela, text=\"1\", command=lambda: adicionar_caractere(\"1\"))\n",
        "b1.grid(row=1, column=0)\n",
        "\n",
        "b2 = tk.Button(janela, text=\"2\", command=lambda: adicionar_caractere(\"2\"))\n",
        "b2.grid(row=1, column=1)\n",
        "\n",
        "b3 = tk.Button(janela, text=\"3\", command=lambda: adicionar_caractere(\"3\"))\n",
        "b3.grid(row=1, column=2)\n",
        "\n",
        "b_div = tk.Button(janela, text=\"/\", command=lambda: adicionar_caractere(\"/\"))\n",
        "b_div.grid(row=1, column=3)\n",
        "\n",
        "b4 = tk.Button(janela, text=\"4\", command=lambda: adicionar_caractere(\"4\"))\n",
        "b4.grid(row=2, column=0)\n",
        "\n",
        "b5 = tk.Button(janela, text=\"5\", command=lambda: adicionar_caractere(\"5\"))\n",
        "b5.grid(row=2, column=1)\n",
        "\n",
        "b6 = tk.Button(janela, text=\"6\", command=lambda: adicionar_caractere(\"6\"))\n",
        "b6.grid(row=2, column=2)\n",
        "\n",
        "b_mult = tk.Button(janela, text=\"*\", command=lambda: adicionar_caractere(\"*\"))\n",
        "b_mult.grid(row=2, column=3)\n",
        "\n",
        "b7 = tk.Button(janela, text=\"7\", command=lambda: adicionar_caractere(\"7\"))\n",
        "b7.grid(row=3, column=0)\n",
        "\n",
        "b8 = tk.Button(janela, text=\"8\", command=lambda: adicionar_caractere(\"8\"))\n",
        "b8.grid(row=3, column=1)\n",
        "\n",
        "b9 = tk.Button(janela, text=\"9\", command=lambda: adicionar_caractere(\"9\"))\n",
        "b9.grid(row=3, column=2)\n",
        "\n",
        "b_sub = tk.Button(janela, text=\"-\", command=lambda: adicionar_caractere(\"-\"))\n",
        "b_sub.grid(row=3, column=3)\n",
        "\n",
        "b0 = tk.Button(janela, text=\"0\", command=lambda: adicionar_caractere(\"0\"))\n",
        "b0.grid(row=4, column=0)\n",
        "\n",
        "b_ponto = tk.Button(janela, text=\".\", command=lambda: adicionar_caractere(\".\"))\n",
        "b_ponto.grid(row=4, column=1)\n",
        "\n",
        "b_igual = tk.Button(janela, text=\"=\", command=calcular)\n",
        "b_igual.grid(row=4, column=2)\n",
        "\n",
        "b_soma = tk.Button(janela, text=\"+\", command=lambda: adicionar_caractere(\"+\"))\n",
        "b_soma.grid(row=4, column=3)\n",
        "\n",
        "b_limpar = tk.Button(janela, text=\"C\", command=limpar)\n",
        "b_limpar.grid(row=5, column=0)\n",
        "\n",
        "b_abre_parenteses = tk.Button(janela, text=\"(\", command=lambda: adicionar_caractere(\"(\"))\n",
        "b_abre_parenteses.grid(row=5, column=1)\n",
        "\n",
        "b_fecha_parenteses = tk.Button(janela, text=\")\", command=lambda: adicionar_caractere(\")\"))\n",
        "b_fecha_parenteses.grid(row=5, column=2)\n",
        "\n",
        "# Loop principal da aplicação\n",
        "janela.mainloop()\n",
        "```"
      ],
      "metadata": {
        "id": "WOCVPysfg29E"
      }
    },
    {
      "cell_type": "markdown",
      "source": [
        "Para finalizar, gostariamos de lembrar que a aula 5 mostrou apenas algumas funções da biblioteca Tkinter. Se você deseja se aprofundar mais no Tkinter, sugerimos que você estude a documentação da mesma: https://docs.python.org/3/library/tkinter.html"
      ],
      "metadata": {
        "id": "hyuCu_dCh1FN"
      }
    }
  ]
}