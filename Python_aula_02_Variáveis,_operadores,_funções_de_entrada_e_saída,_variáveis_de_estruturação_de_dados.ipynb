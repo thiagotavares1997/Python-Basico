{
  "nbformat": 4,
  "nbformat_minor": 0,
  "metadata": {
    "colab": {
      "provenance": [],
      "mount_file_id": "1tHPMJ30qdfnkLRXWdxWBUXnAMaq1zRis",
      "authorship_tag": "ABX9TyMe3B/GYd5uIhD4FPcPNLof",
      "include_colab_link": true
    },
    "kernelspec": {
      "name": "python3",
      "display_name": "Python 3"
    },
    "language_info": {
      "name": "python"
    }
  },
  "cells": [
    {
      "cell_type": "markdown",
      "metadata": {
        "id": "view-in-github",
        "colab_type": "text"
      },
      "source": [
        "<a href=\"https://colab.research.google.com/github/thiagotavares1997/Python-Basico/blob/main/Python_aula_02_Vari%C3%A1veis%2C_operadores%2C_fun%C3%A7%C3%B5es_de_entrada_e_sa%C3%ADda%2C_vari%C3%A1veis_de_estrutura%C3%A7%C3%A3o_de_dados.ipynb\" target=\"_parent\"><img src=\"https://colab.research.google.com/assets/colab-badge.svg\" alt=\"Open In Colab\"/></a>"
      ]
    },
    {
      "cell_type": "markdown",
      "source": [
        "# Variáveis, operadores, funções de entrada e saída, variáveis de estruturação de dados"
      ],
      "metadata": {
        "id": "UczqrSsVuEKh"
      }
    },
    {
      "cell_type": "markdown",
      "source": [
        "## Variáveis\n",
        "\n",
        "Variáveis em Python são espaços de armazenamento na memória do computador que contêm valores, sendo usadas para armazenar dados que podem ser usados ​​mais tarde no programa.\n",
        "\n",
        "Para criarmos uma variável em Python, precisamos atribuir um valor a um espaço de memória, para isso, usa-se o operador \"=\". Ainda, como já vimos, Python é uma linguagem dinâmica, ou seja, quando atribuimos um valor a uma variável, ela irá tornar-se o mesmo tipo do valor atribuido. Por exemplo, se você atribuir um valor inteiro a uma variável, ela será do tipo inteiro. Se você atribuir uma string a uma variável, ela será do tipo string. Isso significa que você pode reatribuir uma variável com um valor de um tipo diferente a qualquer momento."
      ],
      "metadata": {
        "id": "zj3m3J8Quq9-"
      }
    },
    {
      "cell_type": "code",
      "execution_count": null,
      "metadata": {
        "colab": {
          "base_uri": "https://localhost:8080/"
        },
        "id": "t_dvkcC_ecG9",
        "outputId": "9eb50ae8-4305-473a-a67e-33b2d7039ab1"
      },
      "outputs": [
        {
          "output_type": "stream",
          "name": "stdout",
          "text": [
            "a é uma variável do tipo <class 'int'> de valor 1\n",
            "b é uma variável do tipo <class 'float'> de valor 3.14159265\n",
            "c é uma variável do tipo <class 'str'> de valor String\n",
            "d é uma variável do tipo <class 'str'> de valor Também String\n",
            "agora a é uma variável do tipo <class 'str'> de valor Virei uma String\n"
          ]
        }
      ],
      "source": [
        "a = 1\n",
        "b = 3.14159265\n",
        "c = 'String'\n",
        "d = \"Também String\"\n",
        "e = \"Semcon Brasil\"\n",
        "\n",
        "print(f\"a é uma variável do tipo {type(a)} de valor {a}\")\n",
        "print(f\"b é uma variável do tipo {type(b)} de valor {b}\")\n",
        "print(f\"c é uma variável do tipo {type(c)} de valor {c}\")\n",
        "print(f\"d é uma variável do tipo {type(d)} de valor {d}\")\n",
        "\n",
        "a = \"Virei uma String\"\n",
        "\n",
        "print(f\"agora a é uma variável do tipo {type(a)} de valor {a}\")"
      ]
    },
    {
      "cell_type": "markdown",
      "source": [
        "## Operadores\n",
        "\n",
        "Em Python, os operadores são símbolos que realizam operações em valores e variáveis muito similar a outras linguagens de programação, podendo ser divididas em Operadores Aritméticos, de Comparação, Lógicos, de Comparação ou Bitware.\n"
      ],
      "metadata": {
        "id": "fkLKnNSG08D4"
      }
    },
    {
      "cell_type": "markdown",
      "source": [
        "### Operadores Aritméticos\n",
        "\n",
        "Operadores aritméticos são aqueles que realizam operações matemáticas básicas em valores numéricos. Eles são usados para realizar cálculos matemáticos em programas, como adição, subtração, multiplicação e divisão.\n",
        "\n",
        "* `Adição (+):` Soma dois valores.\n",
        "* `Subtração (-):` Subtrai um valor de outro.\n",
        "* `Multiplicação (*):` Multiplica dois valores.\n",
        "* `Divisão (/):` Divide um valor por outro.\n",
        "* `Divisão inteira (//):` Divide um valor por outro, e retorna apenas a parte inteira do resultado.\n",
        "* `Resto da divisão (%):` Retorna o resto da divisão entre dois valores.\n",
        "* `Exponenciação (**):` Calcula a potência de um valor elevado a outro valor.\n",
        "\n"
      ],
      "metadata": {
        "id": "dfiWGKli339X"
      }
    },
    {
      "cell_type": "code",
      "source": [
        "print(f\"1 + 1 = {1+1}\")\n",
        "print(f\"1 - 1 = {1-1}\")\n",
        "print(f\"2 * 10 = {2*10}\")\n",
        "print(f\"10 / 3 = {10/3}\")\n",
        "print(f\"10 // 3 = {10//3}\")\n",
        "print(f\"10 % 3 = {10%3}\")"
      ],
      "metadata": {
        "colab": {
          "base_uri": "https://localhost:8080/"
        },
        "id": "N3CGM8i14eYX",
        "outputId": "27250c1d-45ef-41ce-c2ac-52b076605098"
      },
      "execution_count": null,
      "outputs": [
        {
          "output_type": "stream",
          "name": "stdout",
          "text": [
            "1 + 1 = 2\n",
            "1 - 1 = 0\n",
            "2 * 10 = 20\n",
            "10 / 3 = 3.3333333333333335\n",
            "10 // 3 = 3\n",
            "10 % 3 = 1\n"
          ]
        }
      ]
    },
    {
      "cell_type": "markdown",
      "source": [
        "### Operadores de Comparação\n",
        "\n",
        "Operadores de comparação são aqueles que comparam dois valores e retornam um valor booleano (True ou False) indicando se a comparação é verdadeira ou falsa. Eles são usados para testar condições em programas, como verificar se um valor é igual a outro ou se um valor é maior que outro. Em Python, os principais operadores são:\n",
        "\n",
        "* `Igualdade (==):` Retorna verdadeiro se os valores comparados são iguais.\n",
        "* `Desigualdade (!=):` Retorna verdadeiro se os valores comparados são diferentes.\n",
        "* `Maior que (>):` Retorna verdadeiro se o primeiro valor é maior que o segundo.\n",
        "* `Menor que (<):` Retorna verdadeiro se o primeiro valor é menor que o segundo.\n",
        "* `Maior ou igual que (>=):` Retorna verdadeiro se o primeiro valor é maior ou igual ao segundo.\n",
        "* `Menor ou igual que (<=):` Retorna verdadeiro se o primeiro valor é menor ou igual ao segundo.\n"
      ],
      "metadata": {
        "id": "xLPfS1PT5R5K"
      }
    },
    {
      "cell_type": "code",
      "source": [
        "a = 10\n",
        "b = 5\n",
        "\n",
        "print(a==10)\n",
        "print(b!=2)\n",
        "print(a>b)\n",
        "print(a<b)\n",
        "print(a>=10)\n",
        "print(b<=6)"
      ],
      "metadata": {
        "colab": {
          "base_uri": "https://localhost:8080/"
        },
        "id": "tI6ygdEM6yBB",
        "outputId": "123f1334-d742-4231-96d2-21bef25ce81f"
      },
      "execution_count": null,
      "outputs": [
        {
          "output_type": "stream",
          "name": "stdout",
          "text": [
            "True\n",
            "True\n",
            "True\n",
            "False\n",
            "True\n",
            "True\n"
          ]
        }
      ]
    },
    {
      "cell_type": "markdown",
      "source": [
        "### Operadores Lógicos\n",
        "\n",
        "Operadores lógicos são aqueles que combinam expressões booleanas para formar uma nova expressão booleana. Eles são usados para testar múltiplas condições em programas, combinando os resultados de expressões booleanas em uma única resposta verdadeira ou falsa.\n",
        "\n",
        "Os principais operadores lógicos em Python são:\n",
        "\n",
        "* `E lógico (and):` Retorna verdadeiro se as duas expressões booleanas comparadas são verdadeiras.\n",
        "* `Ou lógico (or):` Retorna verdadeiro se pelo menos uma das expressões booleanas comparadas é verdadeira.\n",
        "* `Não lógico (not):` Inverte o valor da expressão booleana, retornando verdadeiro se a expressão é falsa e falso se a expressão é verdadeira."
      ],
      "metadata": {
        "id": "PYDARjGZ8b9Q"
      }
    },
    {
      "cell_type": "code",
      "source": [
        "a = 10\n",
        "b = 5\n",
        "\n",
        "if a > b and b > a:\n",
        "  print(\"a é maior que b e b é maior que a\")\n",
        "elif a > b or b > a:\n",
        "  print(\"a é maior que b ou b é maio que a\")\n",
        "\n",
        "if not(a > b and b > a):\n",
        "  print(\"a não é maior que b ou b não é maior que a\")\n",
        "elif not(a > b or b > a):\n",
        "  print(\"a não é maior que b e b não é maio que a\")"
      ],
      "metadata": {
        "colab": {
          "base_uri": "https://localhost:8080/"
        },
        "id": "6fsy5u4n8yQf",
        "outputId": "92da0f54-6645-46d3-9eee-e08818be9e4a"
      },
      "execution_count": null,
      "outputs": [
        {
          "output_type": "stream",
          "name": "stdout",
          "text": [
            "a é maior que b ou b é maio que a\n",
            "a não é maior que b ou b não é maior que a\n"
          ]
        }
      ]
    },
    {
      "cell_type": "markdown",
      "source": [
        "### Operadores de Atribuição\n",
        "\n",
        "Os operadores de atribuição são usados em linguagens de programação, incluindo em Python, para atribuir valores a variáveis. Como já vimos, o operador mais comum é o sinal de igual (=) simples, que é usado para atribuir um valor a uma variável, já que quando usamos dois sinais de iguais a atribuição torna-se uma operação lógica de igualdade, tal qual mencionado anteriormente.\n",
        "\n",
        "Ainda, é possível combinar operações matemáticas com atribuições de valores para facilitar e reduzir o volume do seu código. No caso do python, as possibilidades são:\n",
        "\n",
        "* `+=:` é usado para adicionar um valor à variável existente. Por exemplo, x += 5 é equivalente a x = x + 5.\n",
        "\n",
        "* `-=:` é usado para subtrair um valor da variável existente. Por exemplo, x -= 5 é equivalente a x = x - 5.\n",
        "\n",
        "* `*=:` é usado para multiplicar um valor pela variável existente. Por exemplo, x *= 5 é equivalente a x = x * 5.\n",
        "\n",
        "* `/=:` é usado para dividir a variável existente por um valor. Por exemplo, x /= 5 é equivalente a x = x / 5."
      ],
      "metadata": {
        "id": "vZCXS9V4ohLK"
      }
    },
    {
      "cell_type": "code",
      "source": [
        "a = 10\n",
        "print(f'o valor de a é {a}')\n",
        "a += a\n",
        "print(f'o valor de a += a é {a}')\n",
        "a -= a\n",
        "print(f'o valor de a -= a é {a}')\n",
        "\n",
        "a = 10\n",
        "a *= a\n",
        "print(f'o valor de a *= a é {a}')\n",
        "a /= a\n",
        "print(f'o valor de a /= a é {a}')\n",
        "a //= a\n",
        "print(f'o valor de a //= a é {a}')\n",
        "a %= a\n",
        "print(f'o valor de a %= a é {a}')\n",
        "\n",
        "a = 10\n",
        "a **= a\n",
        "print(f'o valor de a **= a é {a}')"
      ],
      "metadata": {
        "colab": {
          "base_uri": "https://localhost:8080/"
        },
        "id": "TK3kS_zdsmmf",
        "outputId": "a8052701-9388-4d00-fee7-3c75d32d1baa"
      },
      "execution_count": null,
      "outputs": [
        {
          "output_type": "stream",
          "name": "stdout",
          "text": [
            "o valor de a é 10\n",
            "o valor de a += a é 20\n",
            "o valor de a -= a é 0\n",
            "o valor de a *= a é 100\n",
            "o valor de a /= a é 1.0\n",
            "o valor de a //= a é 1.0\n",
            "o valor de a %= a é 0.0\n",
            "o valor de a **= a é 10000000000\n"
          ]
        }
      ]
    },
    {
      "cell_type": "markdown",
      "source": [
        "### Operadores Bitwise\n",
        "\n",
        "Os operadores bitwise (ou operadores bit a bit) são usados em linguagens de programação para realizar operações em nível de bit em valores numéricos, sendo mais utilizados em microcontroladores, em trabalhos com protocolos de comunicação, criptografia e codificação de dados. Eles trabalham bit a bit em um ou mais valores e são usados principalmente em situações onde é necessário manipular ou controlar bits individuais dentro de um valor.\n",
        "\n",
        "Em Python, os operadores bitwise são:\n",
        "\n",
        "* `&:` operador \"e\" bitwise. Ele retorna um valor cujos bits são definidos como 1 em ambas as posições correspondentes dos valores que estão sendo comparados.\n",
        "\n",
        "\n",
        "```\n",
        "a = 0b1010  # 10 em binário\n",
        "b = 0b1100  # 12 em binário\n",
        "c = a & b   # 0b1000, ou 8 em binário\n",
        "```\n",
        "\n",
        "* `|:` operador \"ou\" bitwise. Ele retorna um valor cujos bits são definidos como 1 em pelo menos uma das posições correspondentes dos valores que estão sendo comparados.\n",
        "\n",
        "```\n",
        "a = 0b1010  # 10 em binário\n",
        "b = 0b1100  # 12 em binário\n",
        "c = a | b   # 0b1110, ou 14 em binário\n",
        "```\n",
        "\n",
        "* `^:` operador \"ou exclusivo\" bitwise. Ele retorna um valor cujos bits são definidos como 1 em uma, mas não em ambas as posições correspondentes dos valores que estão sendo\n",
        "\n",
        "```\n",
        "a = 0b1010  # 10 em binário\n",
        "b = 0b1100  # 12 em binário\n",
        "c = a ^ b   # 0b0110, ou 6 em binário\n",
        "```\n",
        "\n",
        "* `~:` operador \"não\" bitwise. Ele inverte cada bit de um valor, resultando em um novo valor com todos os bits invertidos.\n",
        "\n",
        "```\n",
        "a = 0b1010  # 10 em binário\n",
        "b = ~a      # -11 em decimal (ou 0b11111111111111111111111111110101 em binário)\n",
        "```\n",
        "\n",
        "* `<<:` operador de deslocamento à esquerda. Ele desloca todos os bits de um valor para a esquerda, adicionando zeros na extremidade direita. O número de posições para deslocar é especificado após o operador.\n",
        "\n",
        "```\n",
        "a = 0b1010  # 10 em binário\n",
        "b = a << 2  # 0b101000, ou 40 em decimal\n",
        "```\n",
        "\n",
        "* `>>:` operador de deslocamento à direita. Ele desloca todos os bits de um valor para a direita, removendo bits da extremidade direita. O número de posições para deslocar é especificado após o operador.\n",
        "\n",
        "```\n",
        "a = 0b1010  # 10 em binário\n",
        "b = a >> 1  # 0b0101, ou 5 em decimal\n",
        "```"
      ],
      "metadata": {
        "id": "HidAyxR5xuM1"
      }
    },
    {
      "cell_type": "markdown",
      "source": [
        "## Funções de Entrada e Saída (In and Out - I/O)\n",
        "\n",
        "Em python, as funções de entrada e saída permitem que o programa interaja com recursos externos a eles e os manipule quando necessário. Dessa forma, na auxência desses tipos de funções, os programas seriam códigos isolados, limitando a utilidade e funcionalidade desses programas.\n",
        "\n",
        "Em python, as principais funções são:\n",
        "\n",
        "* `input():` essa função permite que o programa receba informações do usuário através do teclado. Ela espera que o usuário digite algo e, em seguida, retorna o valor digitado como uma string. Caso você deseje pegar algum valor numérico, é necessário comlementar a função input com o tipo de variável que você deseja.\n",
        "\n",
        "```\n",
        "valor = int(input('Informe um valor inteiro: '))\n",
        "```\n",
        "\n",
        "* `print():` essa função permite que o programa exiba informações na tela do computador. Ela pode ser usada para imprimir strings, números e outros tipos de dados. Na versão 3.6 do Python, a função print recebeu uma extenção chamada de f-string.\n",
        "\n",
        ">> `print():` irá imprimir todo o conteudo inserido dentro dos parenteses e precida de \",\" para formular a saída com variáveis de valor distinto. No exemplo abaixo, o primeiro print irá imprimir a frase O valor informado foi: x ao ponto que x será o um valor inteiro informado pelo usuário.\n",
        "\n",
        "```\n",
        "print(\"O valor informado foi:\", valor)\n",
        "```\n",
        "\n",
        ">> `print(f):` este tipo de função consegue incorporar valores distintos em uma string, bastando que o valor desejado seja inserido entre chaves. No exemplo abaixo a variável valor é incorporada na string e a impressão sera: O valor informado foi x\n",
        "\n",
        "```\n",
        "print(f\"O valor informado foi {valor}\")\n",
        "```\n",
        "\n",
        "* `open():` como o nome indica, esta função é usada para abrir arquivos de leitura ou escrit, podendo ser usada tanto para ler quando para escrever em arquivos externos.\n",
        "\n",
        "```\n",
        "arquivo = open(\"arquivo.txt\", \"r\")\n",
        "conteudo = arquivo.read()\n",
        "print(conteudo)\n",
        "arquivo.close()\n",
        "```\n",
        "\n",
        "* `write():` está função é usada para escrever dados em arquivos abertos\n",
        "\n",
        "```\n",
        "arquivo = open(\"arquivo.txt\", \"w\")\n",
        "arquivo.write(\"Escrevendo no arquivo\")\n",
        "arquivo.close()\n",
        "```\n",
        "\n",
        "* `close():` esta função é necessária sempre que abrimos um arquivo para ler ou escrever nele. Ela é utilziada para fechar os arquivos que abrimos para liberar os recursos do sistema operacional, evitando problemas de starvation.\n",
        "\n",
        "Ainda, é possível realizar as operações matemáticas anteriormente mensionadas dentro dos próprios prints e na escrita dos valores como mostrado no código abaixo. Observe que a primeira vez que você rodar o código, um arquivo.txt será criado no diretório. Caso este arquivo já exista, ele apenas será sobrescrito."
      ],
      "metadata": {
        "id": "u4xfQH5NBj7x"
      }
    },
    {
      "cell_type": "code",
      "source": [
        "valor = int(input('Informe um valor inteiro: '))\n",
        "print(\"O valor informado foi:\", valor)\n",
        "print(f\"O valor informado multiplicado por 2 é {2*valor}\")\n",
        "\n",
        "\n",
        "arquivo = open(\"arquivo.txt\", \"w\")\n",
        "arquivo.write(f\"Escrevendo no arquivo que o valor informado vezes 10 é {10*valor}\")\n",
        "arquivo = open(\"arquivo.txt\", \"r\")\n",
        "conteudo = arquivo.read()\n",
        "print(conteudo)\n",
        "arquivo.close()"
      ],
      "metadata": {
        "colab": {
          "base_uri": "https://localhost:8080/"
        },
        "id": "R44VklF5o_VB",
        "outputId": "65e4b2a7-d32c-4d4c-b821-9c4e7f9c9575"
      },
      "execution_count": null,
      "outputs": [
        {
          "output_type": "stream",
          "name": "stdout",
          "text": [
            "Informe um valor inteiro: 2\n",
            "O valor informado foi: 2\n",
            "O valor informado multiplicado por 2 é 4\n",
            "Escrevendo no arquivo que o valor informado vezes 10 é 20\n"
          ]
        }
      ]
    },
    {
      "cell_type": "markdown",
      "source": [
        "## Variáveis de estruturação de dados\n",
        "\n",
        "### Listas, tuplas e dicionários\n",
        "\n",
        "####Lista\n",
        "\n",
        "As estruturas de lista é uma coleção ordenada e mutável de elementos, que podem ser de diferentes tipos de dados, inclusive outras listas. Para se definir uma lista, atribuimos elementos dentro de colchetes e separados por vírgula a uma variável.\n",
        "\n",
        "```\n",
        "lista = [1, \"dois\", 3.0, [1, \"dois\", 3.0]]\n",
        "```\n",
        "\n",
        "####Tuplas\n",
        "\n",
        "Assim como a lista, uma tupla consegue receber qualquer tipo de variável, mas ela não pode ser mudada, ou seja, a tupla é uma lista imutável. Outra diferença entre tuplas e listas é que as tuplas são declaradas com parênteses.\n",
        "\n",
        "\n",
        "```\n",
        "tupla = (1, \"dois\", 3.0, [1, \"dois\", 3.0])\n",
        "```\n",
        "\n",
        "####Dicionários\n",
        "\n",
        "Um dicionário é uma coleçaõ não ordenada de pares chave-valor. Diferentemente das listas e das tuplas, os valores podem ser de diferentes tipos de dados, mas as chaves devem necessáriamente ser únicas e imutáveis. Para definir um dicionário são utilizados colchetes e os pares chave-valor são separados por vírgulas e um dois-pontos é utilizado para separar a chave do valor.\n",
        "\n",
        "```\n",
        "dicionario = {\"chave 1\": 1, \"chave 2\": \"dois\", \"chave 3\": 3.0, \"chave 4\": [1, \"dois\", 3.0]}\n",
        "```\n",
        "\n",
        "### Comandos para manipular listas, tuplas e dicionários\n",
        "\n",
        "Existem diversos comandos em Python para percorrer e manipular listas, tuplas e dicionários. Alguns dos mais comuns são:\n",
        "\n",
        "#### Listas\n",
        "\n",
        "* `len(lista)`: retorna o comprimento da lista (número de elementos).\n",
        "* `lista.append(elemento)`: adiciona um elemento ao final da lista.\n",
        "* `lista.insert(posicao, elemento)`: adiciona um elemento em uma posição específica da lista.\n",
        "* `lista.remove(elemento)`: remove o primeiro elemento da lista que corresponde ao valor informado.\n",
        "* `lista.pop(posicao)`: remove e retorna o elemento de uma posição específica da lista.\n",
        "* `lista.index(elemento)`: retorna o índice da primeira ocorrência do elemento na lista.\n",
        "* `lista.sort()`: ordena os elementos da lista em ordem crescente.\n",
        "* `lista.reverse()`: inverte a ordem dos elementos na lista.\n",
        "\n",
        "#### Tuplas\n",
        "\n",
        "- `len(tupla)`: retorna o comprimento da tupla (número de elementos).\n",
        "- `tupla.count(elemento)`: conta o número de ocorrências de um elemento na tupla.\n",
        "- `tupla.index(elemento)`: retorna o índice da primeira ocorrência do elemento na tupla.\n",
        "\n",
        "#### Dicionários\n",
        "\n",
        "* `len(dicionario)`: retorna o número de pares chave-valor no dicionário.\n",
        "* `dicionario[chave]`: retorna o valor associado a uma chave no dicionário.\n",
        "* `dicionario.keys()`: retorna uma lista contendo todas as chaves do dicionário.\n",
        "* `dicionario.values()`: retorna uma lista contendo todos os valores do dicionário.\n",
        "* `dicionario.items()`: retorna uma lista contendo todos os pares chave-valor do dicionário.\n",
        "* `dicionario.update(outro_dicionario)`: mescla dois dicionários, substituindo os valores das chaves existentes no dicionário original e adicionando as novas chaves e valores do dicionário fornecido."
      ],
      "metadata": {
        "id": "dzXqTVCZ70bU"
      }
    },
    {
      "cell_type": "markdown",
      "source": [
        "# Referências bibliográficas\n",
        "\n",
        "1. SEVERANCE, Charles. Python para todos. Tradução de Rafael Barreto. São Paulo: Novatec Editora, 2016.\n",
        "2. SHAW, Zed A. Aprenda a programar com Python. Tradução de Daniel Doro Ferrante. São Paulo: Novatec Editora, 2015.\n",
        "3. LIANG, Y. Daniel. Introdução à programação com Python. Tradução de Cláudio Esperança. São Paulo: Pearson, 2016.\n",
        "4. SWEIGART, Al. Automatize tarefas maçantes com Python. Tradução de Henrique Bastos et al. São Paulo: Novatec Editora, 2016.\n",
        "5. BEAZLEY, David; JONES, Brian K. Python Cookbook. 3. ed. Sebastopol, CA: O'Reilly Media, 2013.\n",
        "6. RAMALHO, Luciano. Fluent Python. Sebastopol, CA: O'Reilly Media, 2015."
      ],
      "metadata": {
        "id": "Mq3hFo03trHV"
      }
    }
  ]
}