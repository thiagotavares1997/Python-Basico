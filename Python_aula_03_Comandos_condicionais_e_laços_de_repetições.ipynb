{
  "nbformat": 4,
  "nbformat_minor": 0,
  "metadata": {
    "colab": {
      "provenance": [],
      "mount_file_id": "1tHPMJ30qdfnkLRXWdxWBUXnAMaq1zRis",
      "authorship_tag": "ABX9TyMA037fpau6iETSQyKHTyaD",
      "include_colab_link": true
    },
    "kernelspec": {
      "name": "python3",
      "display_name": "Python 3"
    },
    "language_info": {
      "name": "python"
    }
  },
  "cells": [
    {
      "cell_type": "markdown",
      "metadata": {
        "id": "view-in-github",
        "colab_type": "text"
      },
      "source": [
        "<a href=\"https://colab.research.google.com/github/thiagotavares1997/Python-Basico/blob/main/Python_aula_03_Comandos_condicionais_e_la%C3%A7os_de_repeti%C3%A7%C3%B5es.ipynb\" target=\"_parent\"><img src=\"https://colab.research.google.com/assets/colab-badge.svg\" alt=\"Open In Colab\"/></a>"
      ]
    },
    {
      "cell_type": "markdown",
      "source": [
        "# Comandos condicionais e laços de repetições"
      ],
      "metadata": {
        "id": "09rSHg5bJhKj"
      }
    },
    {
      "cell_type": "markdown",
      "source": [
        "## Comandos condicionais\n",
        "\n",
        "Em python, os comandos condicionais permitem a execução de um bloco de código somente se determinadas condições sejam atendidas. Em pyhton, as estruturas utilizadas nesses comandos são o if, elif e else que traduzindo seriam se, senão se e senão.\n",
        "\n",
        "A ideia por trás desses comandos é executar um bloco identado abaixo do if se as condições estabelecidas forem satisfeitas, se não o bloco identado do elif sera executado, se não o bloco identado do else é executado.\n",
        "\n",
        "Lembre-se sempre de que as extruturas de loop e condicionais em python obedecem a identação, não sendo necessario a utilização de chavez, parênteses ou colchetes como em outras linguagesns.\n",
        "\n",
        "Obeserve o código abaixo. Ele irá pedir que o usuário informe um valor interiro e irá imprimir se tal valor é par ou impar. Para a lógica, será usado o operador % que, como vimos anteriormente, retorna o resto de uma divisão. Se dividirmos qualquer número por 2, se o resto for nulo, significa que tal valor é, com certeza, par, caso o contrário, o valor é impar."
      ],
      "metadata": {
        "id": "acENraqaKFhC"
      }
    },
    {
      "cell_type": "code",
      "source": [
        "valor = int(input(\"Informe um valor: \"))\n",
        "\n",
        "if valor%2 == 0:\n",
        "  print(f\"o número {valor} é par\")\n",
        "else:\n",
        "  print(f\"o número {valor} é impar\")"
      ],
      "metadata": {
        "colab": {
          "base_uri": "https://localhost:8080/"
        },
        "id": "dBKFrkcK21QA",
        "outputId": "5af2c1d4-2c57-4952-eea4-04249e50457c"
      },
      "execution_count": null,
      "outputs": [
        {
          "output_type": "stream",
          "name": "stdout",
          "text": [
            "Informe um valor: 7\n",
            "o número 7 é impar\n"
          ]
        }
      ]
    },
    {
      "cell_type": "markdown",
      "source": [
        "Agora, vamos desenvolver um código que peça para o usuário dois numeros e depois pergunte se ele deseja somar ou subtrair. Para isso, o usuário deverá informar dois números e qual operação quer realizar e só então comparar para realziar a opração. Caso o usuário indorme algo distinto das operações de soma ou subtração, o código deverá informar que a opração desejada não é válida.\n",
        "\n",
        "Lembre-se que a função input retorna naturalmente uma string e, para comparação entre uma variável e uma string, as aspas devem ser usadas."
      ],
      "metadata": {
        "id": "DfNcMA3J3ZpR"
      }
    },
    {
      "cell_type": "code",
      "source": [
        "valor_1 = int(input(\"Informe um valor: \"))\n",
        "valor_2 = int(input(\"Informe outro valor: \"))\n",
        "operacao = input('Qual operação quer realizar? (+ ou -) ')\n",
        "\n",
        "if operacao == \"+\":\n",
        "  resultado = valor_1 + valor_2\n",
        "  print(\"O resultado da soma é \", resultado)\n",
        "elif operacao == \"-\":\n",
        "  resultado = valor_1 - valor_2\n",
        "  print(\"O resultado da subtração é \", resultado)\n",
        "else:\n",
        "  print(\"Operaçaõ informada não é válida\")\n",
        "\n",
        "print(\"Esta linha sempre é executada pois não está dentro da identação das condições\")"
      ],
      "metadata": {
        "colab": {
          "base_uri": "https://localhost:8080/"
        },
        "id": "YSks8y403ZVA",
        "outputId": "0fb35930-2b0f-46b3-a728-345b5cf3919d"
      },
      "execution_count": null,
      "outputs": [
        {
          "output_type": "stream",
          "name": "stdout",
          "text": [
            "Informe um valor: 8\n",
            "Informe outro valor: 9\n",
            "Qual operação quer realizar? (+ ou -) -\n",
            "O resultado da subtração é  -1\n",
            "Esta linha sempre é executada pois não está dentro da identação das condições\n"
          ]
        }
      ]
    },
    {
      "cell_type": "markdown",
      "source": [
        "Obeserva que após o usuário passar as informações desejadas, o código entra na estruturação condicional e executa as linhas que estão identada sobre aquela condição enquanto que a ultima linha sempre é executada, tendo em vista que ela não pertence a nenhuma estrutura condicional. Nunca se esqueça da identação quando trabalhar com estruturas condicionais, funções ou loop em python!"
      ],
      "metadata": {
        "id": "YdAql7dP6uww"
      }
    },
    {
      "cell_type": "markdown",
      "source": [
        "## Laços de Repetições (Loops)\n",
        "\n",
        "Existem duas estruturas para trabalharmos com laços de repetições em python: o \"for\" e o \"while\". AMbas as estruturas permitem a execução de um bloco de código várias vezes de uma forma automatizada.\n"
      ],
      "metadata": {
        "id": "6KVHv6b6JtXC"
      }
    },
    {
      "cell_type": "markdown",
      "source": [
        "### While\n",
        "\n",
        "A estrutura do \"while\" significa enquanto, de modo que, enquanto sua condição for atendida, o bloco de programação pertencente ao while será executado. Para exercitar, vamos criar uma contagem de 0 a 10 e imprimir esses valores na tela"
      ],
      "metadata": {
        "id": "4WOeyNauKyYR"
      }
    },
    {
      "cell_type": "code",
      "source": [
        "x = 0\n",
        "while x <= 10:\n",
        "  print(x)\n",
        "  x += 1"
      ],
      "metadata": {
        "id": "jUrF7MnQJxKq"
      },
      "execution_count": null,
      "outputs": []
    },
    {
      "cell_type": "markdown",
      "source": [
        "Oberserve que a variável x começa com o valor 0 e vai sendo incrementada até que a condição imposta no while não é mais atendida, não executando seu bloco de programação e finalizando o programa.\n",
        "\n",
        "Vamos retomar o código da aula 3 de soma e subtração. A ideia agora é mexer naquele código até que o usuário informe uma operação válida."
      ],
      "metadata": {
        "id": "hyvZbcimJxn6"
      }
    },
    {
      "cell_type": "code",
      "source": [
        "valor_1 = int(input(\"Informe um valor: \"))\n",
        "valor_2 = int(input(\"Informe outro valor: \"))\n",
        "operacao = input('Qual operação quer realizar? (+ ou -) ')\n",
        "\n",
        "while operacao != \"+\" and operacao != \"-\":\n",
        "  print(\"Operação informada inválida\")\n",
        "  operacao = input('Informe uma operação válida (+ ou -) ')\n",
        "\n",
        "if operacao == \"+\":\n",
        "  resultado = valor_1 + valor_2\n",
        "  print(\"O resultado da soma é \", resultado)\n",
        "elif operacao == \"-\":\n",
        "  resultado = valor_1 - valor_2\n",
        "  print(\"O resultado da subtração é \", resultado)"
      ],
      "metadata": {
        "id": "uvDvKJI3Jz4E"
      },
      "execution_count": null,
      "outputs": []
    },
    {
      "cell_type": "markdown",
      "source": [
        "Observe que, se a variavel operacao for diferente de + ou -, o código irá informar que a operação do usuário não é válida e pede novamente que ele informe se deseja somar ou subtrair. Enquanto o usuário não informar uma das operações válidas, o código fica travado naquele bloco.\n",
        "\n",
        "### For\n",
        "\n",
        "O comando \"for\" é uma estrutura de controle em Python que é usada para iterar sobre uma sequência (como uma lista, uma tupla ou uma string) e executar um bloco de código para cada elemento dessa sequência.\n",
        "\n",
        "Ainda não vimos estruturas vetoriais, mas a ideia por trás do for é percorrer essas estruturas termo a termo e efetuar uma determinada atividade até que todos os termos tenham sido percorridos."
      ],
      "metadata": {
        "id": "ct1S59GaJ2tb"
      }
    },
    {
      "cell_type": "code",
      "source": [
        "lista = [0, 1, 2, 3, 4, 5, 6, 7, 8, 9, 10]\n",
        "\n",
        "for i in lista:\n",
        "  print(f\"{i} x 2 = {2*i}\")"
      ],
      "metadata": {
        "id": "84RYnHN-J59S"
      },
      "execution_count": null,
      "outputs": []
    },
    {
      "cell_type": "markdown",
      "source": [
        "Para exemplificar o for, criamos uma tabuada. Observe que o valor \"i\" percorreu toda a lista e assumiu os valores dela um por vez e, cada vez que acessava um dos endereços da lista, o código identado era executado. Dessa forma, a tabuada do 2 foi formulada."
      ],
      "metadata": {
        "id": "-ugHcE9nJ7xb"
      }
    },
    {
      "cell_type": "markdown",
      "source": [
        "# Referências bibliográficas\n",
        "\n",
        "1. SEVERANCE, Charles. Python para todos. Tradução de Rafael Barreto. São Paulo: Novatec Editora, 2016.\n",
        "2. SHAW, Zed A. Aprenda a programar com Python. Tradução de Daniel Doro Ferrante. São Paulo: Novatec Editora, 2015.\n",
        "3. LIANG, Y. Daniel. Introdução à programação com Python. Tradução de Cláudio Esperança. São Paulo: Pearson, 2016.\n",
        "4. SWEIGART, Al. Automatize tarefas maçantes com Python. Tradução de Henrique Bastos et al. São Paulo: Novatec Editora, 2016.\n",
        "5. BEAZLEY, David; JONES, Brian K. Python Cookbook. 3. ed. Sebastopol, CA: O'Reilly Media, 2013.\n",
        "6. RAMALHO, Luciano. Fluent Python. Sebastopol, CA: O'Reilly Media, 2015."
      ],
      "metadata": {
        "id": "bq4Zip0NHw1a"
      }
    }
  ]
}